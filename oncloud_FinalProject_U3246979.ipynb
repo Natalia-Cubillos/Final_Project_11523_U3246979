{
 "cells": [
  {
   "cell_type": "markdown",
   "metadata": {},
   "source": [
    "# Data Science Technology and Systems PG (11523)\n",
    "# Final Project | Semester 2, 2025\n",
    "\n",
    "### Natalia Andrea Cubillos Villegas\n",
    "### Student ID: U3246979"
   ]
  },
  {
   "cell_type": "markdown",
   "metadata": {},
   "source": [
    "# Problem: Predicting Airplane Delays\n",
    "\n",
    "The goals of this notebook are:\n",
    "- Process and create a dataset from downloaded ZIP files\n",
    "- Exploratory data analysis (EDA)\n",
    "- Establish a baseline model and improve it\n",
    "\n",
    "## Introduction to business scenario\n",
    "You work for a travel booking website that is working to improve the customer experience for flights that were delayed. The company wants to create a feature to let customers know if the flight will be delayed due to weather when the customers are booking the flight to or from the busiest airports for domestic travel in the US. \n",
    "\n",
    "You are tasked with solving part of this problem by leveraging machine learning to identify whether the flight will be delayed due to weather. You have been given access to the a dataset of on-time performance of domestic flights operated by large air carriers. You can use this data to train a machine learning model to predict if the flight is going to be delayed for the busiest airports.\n",
    "\n",
    "### Dataset\n",
    "The provided dataset contains scheduled and actual departure and arrival times reported by certified US air carriers that account for at least 1 percent of domestic scheduled passenger revenues. The data was collected by the Office of Airline Information, Bureau of Transportation Statistics (BTS). The dataset contains date, time, origin, destination, airline, distance, and delay status of flights for flights between 2014 and 2018.\n",
    "The data are in 60 compressed files, where each file contains a CSV for the flight details in a month for the five years (from 2014 - 2018). The data can be downloaded from this [link](https://ucstaff-my.sharepoint.com/:f:/g/personal/ibrahim_radwan_canberra_edu_au/EhWeqeQsh-9Mr1fneZc9_0sBOBzEdXngvxFJtAlIa-eAgA?e=8ukWwa). Please download the data files and place them on a relative path. Dataset(s) used in this assignment were compiled by the Office of Airline Information, Bureau of Transportation Statistics (BTS), Airline On-Time Performance Data, available with the following [link](https://www.transtats.bts.gov/Fields.asp?gnoyr_VQ=FGJ). "
   ]
  },
  {
   "cell_type": "markdown",
   "metadata": {},
   "source": [
    "# Step 1: Prepare the environment \n",
    "\n",
    "Use one of the labs which we have practised on with the Amazon Sagemakers where you perform the following steps:\n",
    "1. Start a lab.\n",
    "2. Create a notebook instance and name it \"oncloudproject\".\n",
    "\n",
    "**Unfortunately, I was not able to create a new notebook instance because the AWS platform indicated that access was denied for my account.**\n",
    "**I attempted to modify my role and increase permissions, but this was not possible.**\n",
    "\n",
    "**I also tried to create a new session through Python; however, when checking Access Management >> Users, I received the following message:**\n",
    "\n",
    "***“Required: An IAM user is an identity with long-term credentials that is used to interact with AWS in an account.”***\n",
    "\n",
    "**Moreover, I tried to access SageMaker from one of our labs. Although I successfully logged in, I encountered the same “Access Denied” message when attempting to implement the Linear Learner Estimator.**\n",
    "\n",
    "**Given these limitations, I decided to complete the tasks required for this part of the assignment locally using Jupyter Notebook instead.**"
   ]
  },
  {
   "cell_type": "markdown",
   "metadata": {},
   "source": [
    "# Step 2: Build and evaluate simple models\n",
    "\n",
    "Write code to perform the follwoing steps:\n",
    "1. Split data into training, validation and testing sets (70% - 15% - 15%).\n",
    "2. Use linear learner estimator to build a classifcation model.\n",
    "3. Host the model on another instance\n",
    "4. Perform batch transform to evaluate the model on testing data\n",
    "5. Report the performance metrics that you see better test the model performance \n",
    "\n",
    "Note: You are required to perform the above steps on the two combined datasets separatey and to comments on the difference."
   ]
  },
  {
   "cell_type": "code",
   "execution_count": 3,
   "metadata": {},
   "outputs": [],
   "source": [
    "# Loading the necessary libraries\n",
    "import pandas as pd\n",
    "import numpy as np\n",
    "import os\n",
    "\n",
    "# Setting the random seed for reproducibility\n",
    "np.random.seed(42)\n",
    "\n",
    "# Defining the base path for data files\n",
    "base_path = \"Final_Project\"\n",
    "data_v1 = pd.read_csv(f\"{base_path}/combined_csv_v1.csv\")\n",
    "data_v2 = pd.read_csv(f\"{base_path}/combined_csv_v2.csv\")"
   ]
  },
  {
   "cell_type": "markdown",
   "metadata": {},
   "source": [
    "### Working with data version 1"
   ]
  },
  {
   "cell_type": "code",
   "execution_count": 4,
   "metadata": {},
   "outputs": [
    {
     "name": "stdout",
     "output_type": "stream",
     "text": [
      "Train data shape - Data Version 1: (1144871, 94)\n",
      "Validation data shape - Data Version 1: (245380, 94)\n",
      "Test data shape - Data Version 1: (245339, 94)\n",
      "Original dataset shape - Data Version 1: {0.0: 904547, 1.0: 240324}\n",
      "Resampled dataset shape - Data Version 1: {1.0: 904547, 0.0: 904547}\n"
     ]
    }
   ],
   "source": [
    "# Splitting data into traiing, validation, and test sets (70%, 15%, 15%)\n",
    "from sklearn.model_selection import train_test_split\n",
    "train_data, test_data = train_test_split(data_v1, test_size=0.15, random_state=42, stratify=data_v1['target'])\n",
    "train_data, val_data = train_test_split(train_data, test_size=0.1765, random_state=42, stratify=train_data['target'])  # 0.1765 x 0.85 = 0.15\n",
    "\n",
    "# Displaying the shapes of the datasets\n",
    "print(f\"Train data shape - Data Version 1: {train_data.shape}\")\n",
    "print(f\"Validation data shape - Data Version 1: {val_data.shape}\")\n",
    "print(f\"Test data shape - Data Version 1: {test_data.shape}\")\n",
    "\n",
    "# Tackling class imbalance using SMOTE\n",
    "from imblearn.over_sampling import SMOTE\n",
    "smote = SMOTE(random_state=42)\n",
    "X_train = train_data.drop('target', axis=1)\n",
    "y_train = train_data['target']\n",
    "X_resampled, y_resampled = smote.fit_resample(X_train, y_train)\n",
    "print(f'Original dataset shape - Data Version 1: {y_train.value_counts().to_dict()}')\n",
    "print(f'Resampled dataset shape - Data Version 1: {y_resampled.value_counts().to_dict()}')"
   ]
  },
  {
   "cell_type": "code",
   "execution_count": 5,
   "metadata": {},
   "outputs": [
    {
     "name": "stdout",
     "output_type": "stream",
     "text": [
      "[[131525  62347]\n",
      " [ 27305  24203]]\n",
      "              precision    recall  f1-score   support\n",
      "\n",
      "         0.0       0.83      0.68      0.75    193872\n",
      "         1.0       0.28      0.47      0.35     51508\n",
      "\n",
      "    accuracy                           0.63    245380\n",
      "   macro avg       0.55      0.57      0.55    245380\n",
      "weighted avg       0.71      0.63      0.66    245380\n",
      "\n"
     ]
    },
    {
     "name": "stderr",
     "output_type": "stream",
     "text": [
      "/opt/anaconda3/envs/spyder/lib/python3.11/site-packages/sklearn/linear_model/_logistic.py:473: ConvergenceWarning: lbfgs failed to converge after 100 iteration(s) (status=1):\n",
      "STOP: TOTAL NO. OF ITERATIONS REACHED LIMIT\n",
      "\n",
      "Increase the number of iterations to improve the convergence (max_iter=100).\n",
      "You might also want to scale the data as shown in:\n",
      "    https://scikit-learn.org/stable/modules/preprocessing.html\n",
      "Please also refer to the documentation for alternative solver options:\n",
      "    https://scikit-learn.org/stable/modules/linear_model.html#logistic-regression\n",
      "  n_iter_i = _check_optimize_result(\n"
     ]
    }
   ],
   "source": [
    "# Using Logistic Regression as a baseline model instead of Linear Learner Estimator from AWS SageMaker\n",
    "from sklearn.linear_model import LogisticRegression\n",
    "from sklearn.metrics import classification_report, confusion_matrix\n",
    "\n",
    "# Training the Logistic Regression model\n",
    "logistic_model = LogisticRegression()\n",
    "logistic_model.fit(X_resampled, y_resampled)\n",
    "\n",
    "# Making predictions on the validation set\n",
    "y_val_pred = logistic_model.predict(val_data.drop('target', axis=1))\n",
    "\n",
    "# Evaluating the model\n",
    "print(confusion_matrix(val_data['target'], y_val_pred))\n",
    "print(classification_report(val_data['target'], y_val_pred))"
   ]
  },
  {
   "cell_type": "code",
   "execution_count": null,
   "metadata": {},
   "outputs": [],
   "source": [
    "# Improving performance using CVTuning with GridSearchCV\n",
    "from sklearn.model_selection import GridSearchCV\n",
    "param_grid = {\n",
    "    'C': [0.01, 0.1, 1, 10, 100],\n",
    "    'solver': ['liblinear', 'saga']\n",
    "}\n",
    "grid_search = GridSearchCV(LogisticRegression(), param_grid, cv=5, scoring='f1', n_jobs=-1)\n",
    "grid_search.fit(X_resampled, y_resampled)\n",
    "print(f\"Best parameters from GridSearchCV: {grid_search.best_params_}\")\n",
    "# Making predictions with the best model\n",
    "best_model = grid_search.best_estimator_\n",
    "y_val_pred_best = best_model.predict(val_data.drop('target', axis=1))\n",
    "# Evaluating the best model\n",
    "print(confusion_matrix(val_data['target'], y_val_pred_best))\n",
    "print(classification_report(val_data['target'], y_val_pred_best))"
   ]
  },
  {
   "cell_type": "markdown",
   "metadata": {},
   "source": [
    "### Working with data version 2"
   ]
  },
  {
   "cell_type": "code",
   "execution_count": null,
   "metadata": {},
   "outputs": [],
   "source": [
    "# Splitting data into traiing, validation, and test sets (70%, 15%, 15%)\n",
    "from sklearn.model_selection import train_test_split\n",
    "train_data, test_data = train_test_split(data_v2, test_size=0.15, random_state=42, stratify=data_v2['target'])\n",
    "train_data, val_data = train_test_split(train_data, test_size=0.1765, random_state=42, stratify=train_data['target'])  # 0.1765 x 0.85 = 0.15\n",
    "\n",
    "# Displaying the shapes of the datasets\n",
    "print(f\"Train data shape - Data V2: {train_data.shape}\")\n",
    "print(f\"Validation data shape - Data V2: {val_data.shape}\")\n",
    "print(f\"Test data shape - Data V2: {test_data.shape}\")\n",
    "\n",
    "# Tackling class imbalance using SMOTE\n",
    "from imblearn.over_sampling import SMOTE\n",
    "smote = SMOTE(random_state=42)\n",
    "X_train = train_data.drop('target', axis=1)\n",
    "y_train = train_data['target']\n",
    "X_resampled, y_resampled = smote.fit_resample(X_train, y_train)\n",
    "print(f'Original dataset shape - Data V2: {y_train.value_counts().to_dict()}')\n",
    "print(f'Resampled dataset shape - Data V2: {y_resampled.value_counts().to_dict()}')"
   ]
  },
  {
   "cell_type": "code",
   "execution_count": null,
   "metadata": {},
   "outputs": [],
   "source": [
    "# Using Logistic Regression as a baseline model instead of Linear Learner Estimator from AWS SageMaker\n",
    "from sklearn.linear_model import LogisticRegression\n",
    "from sklearn.metrics import classification_report, confusion_matrix\n",
    "\n",
    "# Training the Logistic Regression model\n",
    "logistic_model = LogisticRegression()\n",
    "logistic_model.fit(X_resampled, y_resampled)\n",
    "\n",
    "# Making predictions on the validation set\n",
    "y_val_pred = logistic_model.predict(val_data.drop('target', axis=1))\n",
    "\n",
    "# Evaluating the model\n",
    "print(confusion_matrix(val_data['target'], y_val_pred))\n",
    "print(classification_report(val_data['target'], y_val_pred))"
   ]
  },
  {
   "cell_type": "markdown",
   "metadata": {},
   "source": [
    "# Step 3: Build and evaluate ensembe models\n",
    "\n",
    "Write code to perform the follwoing steps:\n",
    "1. Split data into training, validation and testing sets (70% - 15% - 15%).\n",
    "2. Use xgboost estimator to build a classifcation model.\n",
    "3. Host the model on another instance\n",
    "4. Perform batch transform to evaluate the model on testing data\n",
    "5. Report the performance metrics that you see better test the model performance \n",
    "6. write down your observation on the difference between the performance of using the simple and ensemble models.\n",
    "Note: You are required to perform the above steps on the two combined datasets separatey."
   ]
  },
  {
   "cell_type": "code",
   "execution_count": 4,
   "metadata": {},
   "outputs": [],
   "source": [
    "# Write the code here and add cells as you need"
   ]
  },
  {
   "cell_type": "code",
   "execution_count": 5,
   "metadata": {},
   "outputs": [],
   "source": [
    "# Write the final comments here and turn the cell type into markdown"
   ]
  }
 ],
 "metadata": {
  "kernelspec": {
   "display_name": "spyder",
   "language": "python",
   "name": "python3"
  },
  "language_info": {
   "codemirror_mode": {
    "name": "ipython",
    "version": 3
   },
   "file_extension": ".py",
   "mimetype": "text/x-python",
   "name": "python",
   "nbconvert_exporter": "python",
   "pygments_lexer": "ipython3",
   "version": "3.11.9"
  }
 },
 "nbformat": 4,
 "nbformat_minor": 4
}
